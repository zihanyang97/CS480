{
 "cells": [
  {
   "cell_type": "code",
   "execution_count": 3,
   "metadata": {},
   "outputs": [
    {
     "name": "stdout",
     "output_type": "stream",
     "text": [
      "when degree = 1\n",
      "MSE for Gaussian Process with polynomial is 1.2916508917751277\n",
      "when degree = 2\n",
      "MSE for Gaussian Process with polynomial is 0.9336415398821722\n",
      "when degree = 3\n",
      "MSE for Gaussian Process with polynomial is 0.0651988467256614\n",
      "when degree = 4\n",
      "MSE for Gaussian Process with polynomial is 0.054370425027654434\n",
      "best degree is 4\n",
      "MSE using best degree 4 for test set is 0.045764532875309426\n"
     ]
    },
    {
     "data": {
      "image/png": "[encoded data removed]",
      "text/plain": [
       "<Figure size 432x288 with 1 Axes>"
      ]
     },
     "metadata": {
      "needs_background": "light"
     },
     "output_type": "display_data"
    }
   ],
   "source": [
    "import numpy as np\n",
    "from numpy import *\n",
    "import csv\n",
    "import math\n",
    "import operator\n",
    "import matplotlib.pyplot as plt\n",
    "from sklearn.model_selection import KFold\n",
    "from sklearn.preprocessing import PolynomialFeatures\n",
    "\n",
    "\n",
    "# function to import train data\n",
    "def importData(file):\n",
    "    data = []\n",
    "    csvFile = open(file, \"r\")\n",
    "    csv_reader = csv.reader(csvFile, delimiter=',')\n",
    "    \n",
    "    for row in csv_reader:\n",
    "        tmp = []\n",
    "        for col in row:\n",
    "            tmp.append(float(col))\n",
    "        data.append(tmp)\n",
    "        \n",
    "    return data\n",
    "\n",
    "def gaussianProcess(d, xTrain, xValidation, yTrain, yValidation):\n",
    "    MSE = 0\n",
    "    # get I \n",
    "    I = np.zeros((len(xTrain),len(xTrain)))\n",
    "    for i in range(len(I)):\n",
    "        I[i][i] = 1\n",
    "    # get gram matrix\n",
    "    K = np.zeros((len(xTrain),len(xTrain)))\n",
    "    for i in range(len(xTrain)):\n",
    "        for j in range(len(xTrain)):\n",
    "            K[i,j] = (dot(xTrain[i], xTrain[j]) + 1)**d\n",
    "    k = np.zeros((len(xValidation), len(xTrain)))\n",
    "    for i in range(len(xValidation)):\n",
    "        for j in range(len(xTrain)):\n",
    "            k[i,j] = (dot(xValidation[i], xTrain[j]) + 1)**d\n",
    "    # compute\n",
    "    K = K + I\n",
    "    K = np.matrix(K)\n",
    "    KI = K.getI()\n",
    "    pred = dot(k, dot(KI, yTrain))\n",
    "    for i in range(len(xValidation)):\n",
    "        MSE += float(pred[i] - yValidation[i])**2\n",
    "    return MSE / len(xValidation)\n",
    "\n",
    "# import train input & target\n",
    "X = []\n",
    "Y = []\n",
    "for i in range(1, 11):\n",
    "    X += importData(\"trainInput\" + str(i) + \".csv\")\n",
    "    Y += importData(\"trainTarget\" + str(i) + \".csv\")\n",
    "X = np.array(X)\n",
    "Y = np.array(Y)\n",
    "\n",
    "# import test input & target\n",
    "x = importData(\"testInput.csv\")\n",
    "y = importData(\"testTarget.csv\")\n",
    "\n",
    "# 10-fold validation initialize\n",
    "kf = KFold(n_splits=10)\n",
    "\n",
    "degreeRange = np.arange(1, 5)\n",
    "minMSE = float('inf')\n",
    "score_list = []\n",
    "bestdegree = 0\n",
    "\n",
    "for i in degreeRange:\n",
    "    total = 0\n",
    "    for train_index, test_index in kf.split(X):\n",
    "        #print(\"train:\", train_index, \"validation:\", test_index)\n",
    "        X_train, X_test = X[train_index], X[test_index]\n",
    "        Y_train, Y_test = Y[train_index], Y[test_index]\n",
    "        total += gaussianProcess(i, X_train, X_test, Y_train, Y_test)\n",
    "    # compute avgMSE\n",
    "    avgMSE = total / 10\n",
    "    if avgMSE < minMSE:\n",
    "        minMSE = avgMSE\n",
    "        bestdegree = i\n",
    "    print(\"when degree = \" + str(i))\n",
    "    print(\"MSE for Gaussian Process with polynomial is \" + str(avgMSE))\n",
    "    score_list.append(avgMSE)\n",
    "    \n",
    "\n",
    "print(\"best degree is \" + str(bestdegree))\n",
    "\n",
    "result = gaussianProcess(bestdegree, X, x, Y, y)\n",
    "\n",
    "print(\"MSE using best degree \" + str(bestdegree) + \" for test set is \" + str(result))\n",
    "\n",
    "plt.plot(degreeRange, score_list)\n",
    "plt.xlabel(\"value of degree for gaussian process with polynomial kernel\")\n",
    "plt.ylabel(\"MSE\")\n",
    "plt.show()"
   ]
  },
  {
   "cell_type": "code",
   "execution_count": null,
   "metadata": {},
   "outputs": [],
   "source": []
  }
 ],
 "metadata": {
  "kernelspec": {
   "display_name": "Python 3",
   "language": "python",
   "name": "python3"
  },
  "language_info": {
   "codemirror_mode": {
    "name": "ipython",
    "version": 3
   },
   "file_extension": ".py",
   "mimetype": "text/x-python",
   "name": "python",
   "nbconvert_exporter": "python",
   "pygments_lexer": "ipython3",
   "version": "3.7.3"
  }
 },
 "nbformat": 4,
 "nbformat_minor": 2
}
