{
 "cells": [
  {
   "cell_type": "code",
   "execution_count": 2,
   "metadata": {},
   "outputs": [
    {
     "name": "stdout",
     "output_type": "stream",
     "text": [
      "MSE for Gaussian Process with identity kernel is 3.5906206854469582\n"
     ]
    }
   ],
   "source": [
    "import numpy as np\n",
    "from numpy import *\n",
    "import csv\n",
    "import math\n",
    "import operator\n",
    "import matplotlib.pyplot as plt\n",
    "from sklearn.preprocessing import PolynomialFeatures\n",
    "\n",
    "\n",
    "# function to import train data\n",
    "def importData(file):\n",
    "    data = []\n",
    "    csvFile = open(file, \"r\")\n",
    "    csv_reader = csv.reader(csvFile, delimiter=',')\n",
    "    \n",
    "    for row in csv_reader:\n",
    "        tmp = []\n",
    "        for col in row:\n",
    "            tmp.append(float(col))\n",
    "        data.append(tmp)\n",
    "        \n",
    "    return data\n",
    "\n",
    "def gaussianProcess(xTrain, xValidation, yTrain, yValidation):\n",
    "    MSE = 0\n",
    "    # get I \n",
    "    I = np.zeros((len(xTrain),len(xTrain)))\n",
    "    for i in range(len(I)):\n",
    "        I[i][i] = 1\n",
    "    \n",
    "    # get gram matrix\n",
    "    K = np.zeros((len(xTrain),len(xTrain)))\n",
    "    for i in range(len(xTrain)):\n",
    "        for j in range(len(xTrain)):\n",
    "            K[i,j] = dot(xTrain[i], xTrain[j])\n",
    "            \n",
    "    k = np.zeros((len(xValidation), len(xTrain)))\n",
    "    for i in range(len(xValidation)):\n",
    "        for j in range(len(xTrain)):\n",
    "            k[i,j] = dot(xValidation[i], xTrain[j])\n",
    "    # compute\n",
    "    K = K + I\n",
    "    K = np.matrix(K)\n",
    "    KI = K.getI()\n",
    "    pred = dot(k, dot(KI, yTrain))\n",
    "    for i in range(len(xValidation)):\n",
    "        MSE += float(pred[i] - yValidation[i])**2\n",
    "    return MSE / len(xValidation)\n",
    "\n",
    "# import train input & target\n",
    "X = []\n",
    "Y = []\n",
    "for i in range(1, 11):\n",
    "    X += importData(\"trainInput\" + str(i) + \".csv\")\n",
    "    Y += importData(\"trainTarget\" + str(i) + \".csv\")\n",
    "X = np.array(X)\n",
    "Y = np.array(Y)\n",
    "\n",
    "# import test input & target\n",
    "x = importData(\"testInput.csv\")\n",
    "y = importData(\"testTarget.csv\")\n",
    "\n",
    "MSE = gaussianProcess(X, x, Y, y)\n",
    "print(\"MSE for Gaussian Process with identity kernel is \" + str(MSE))"
   ]
  },
  {
   "cell_type": "code",
   "execution_count": null,
   "metadata": {},
   "outputs": [],
   "source": []
  }
 ],
 "metadata": {
  "kernelspec": {
   "display_name": "Python 3",
   "language": "python",
   "name": "python3"
  },
  "language_info": {
   "codemirror_mode": {
    "name": "ipython",
    "version": 3
   },
   "file_extension": ".py",
   "mimetype": "text/x-python",
   "name": "python",
   "nbconvert_exporter": "python",
   "pygments_lexer": "ipython3",
   "version": "3.7.3"
  }
 },
 "nbformat": 4,
 "nbformat_minor": 2
}
