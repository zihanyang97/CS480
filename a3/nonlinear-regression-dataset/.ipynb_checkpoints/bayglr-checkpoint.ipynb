{
 "cells": [
  {
   "cell_type": "code",
   "execution_count": 2,
   "metadata": {},
   "outputs": [
    {
     "name": "stdout",
     "output_type": "stream",
     "text": [
      "with degree 1, the avgMSE = 1.291650891770191\n",
      "with degree 2, the avgMSE = 0.9344670732271233\n",
      "with degree 3, the avgMSE = 0.06539581003322567\n",
      "with degree 4, the avgMSE = 0.060249502674010726\n",
      "MSE for test set with best degree 4 is 0.05044037782520351\n"
     ]
    },
    {
     "data": {
      "image/png": "[encoded data removed]",
      "text/plain": [
       "<Figure size 432x288 with 1 Axes>"
      ]
     },
     "metadata": {
      "needs_background": "light"
     },
     "output_type": "display_data"
    }
   ],
   "source": [
    "import numpy as np\n",
    "from numpy import *\n",
    "import csv\n",
    "import math\n",
    "import operator\n",
    "import matplotlib.pyplot as plt\n",
    "from sklearn.model_selection import KFold\n",
    "from sklearn.preprocessing import PolynomialFeatures\n",
    "\n",
    "# function to import train data\n",
    "def importData(file):\n",
    "    data = []\n",
    "    csvFile = open(file, \"r\")\n",
    "    csv_reader = csv.reader(csvFile, delimiter=',')\n",
    "    \n",
    "    for row in csv_reader:\n",
    "        tmp = []\n",
    "        for col in row:\n",
    "            tmp.append(float(col))\n",
    "        data.append(tmp)\n",
    "        \n",
    "    return data\n",
    "\n",
    "def linearRegression(xTrain, xValidation, yTrain, yValidation):\n",
    "    MSE = 0\n",
    "    # get I \n",
    "    I = np.zeros((len(xTrain[0]),len(xTrain[0])))\n",
    "    for i in range(len(I)):\n",
    "        I[i][i] = 1\n",
    "    # get X\n",
    "    X = np.matrix(xTrain)\n",
    "    X = X.getT()\n",
    "    XT = X.getT()\n",
    "    A = dot(X, XT) + I\n",
    "    AI = A.getI()\n",
    "    # get y\n",
    "    Y = np.matrix(yTrain)\n",
    "    W = dot(dot(AI, X), Y)\n",
    "    \n",
    "    for i in range(len(xValidation)):\n",
    "        tmp = np.matrix(xValidation[i])\n",
    "        tmp = tmp.getT()        \n",
    "        pred = float(dot(W.getT(), tmp))\n",
    "        MSE += (pred - float(yValidation[i][0]))**2\n",
    "    return MSE / len(xValidation)\n",
    "\n",
    "# import train input & target\n",
    "X = []\n",
    "Y = []\n",
    "for i in range(1, 11):\n",
    "    X += importData(\"trainInput\" + str(i) + \".csv\")\n",
    "    Y += importData(\"trainTarget\" + str(i) + \".csv\")\n",
    "X = np.array(X)\n",
    "Y = np.array(Y)\n",
    "\n",
    "# import test input & target\n",
    "x = importData(\"testInput.csv\")\n",
    "y = importData(\"testTarget.csv\")\n",
    "\n",
    "# 10-fold validation initialize\n",
    "kf = KFold(n_splits=10)\n",
    "\n",
    "degreeRange = np.arange(1, 5)\n",
    "minMSE = float('inf')\n",
    "MSElist = []\n",
    "bestDegree = 0\n",
    "\n",
    "for i in degreeRange:\n",
    "    poly = PolynomialFeatures(degree=i)\n",
    "    total = 0\n",
    "    for train_index, test_index in kf.split(X):\n",
    "        #print(\"train:\", train_index, \"validation:\", test_index)\n",
    "        X_train, X_test = X[train_index], X[test_index]\n",
    "        Y_train, Y_test = Y[train_index], Y[test_index]\n",
    "        # modified dataset\n",
    "        X_train = poly.fit_transform(X_train)\n",
    "        X_test = poly.fit_transform(X_test)\n",
    "        \n",
    "        total += linearRegression(X_train, X_test, Y_train, Y_test)\n",
    "    # compute avgMSE\n",
    "    avgMSE = total / 10\n",
    "    MSElist.append(avgMSE)\n",
    "    if avgMSE < minMSE:\n",
    "        minMSE = avgMSE\n",
    "        bestDegree = i    \n",
    "    print(\"with degree \" + str(i) + \", the avgMSE = \" + str(avgMSE))  \n",
    "\n",
    "# test\n",
    "poly = PolynomialFeatures(degree=bestDegree)\n",
    "X = poly.fit_transform(X)\n",
    "x = poly.fit_transform(x)\n",
    "testMSE = linearRegression(X, x, Y, y)\n",
    "print(\"MSE for test set with best degree \" + str(bestDegree) + \" is \" + str(testMSE))\n",
    "        \n",
    "plt.plot(degreeRange, MSElist)\n",
    "plt.xlabel(\"degree of the monomial basis functions\")\n",
    "plt.ylabel(\"MSE\")\n",
    "plt.show()"
   ]
  },
  {
   "cell_type": "code",
   "execution_count": null,
   "metadata": {},
   "outputs": [],
   "source": []
  }
 ],
 "metadata": {
  "kernelspec": {
   "display_name": "Python 3",
   "language": "python",
   "name": "python3"
  },
  "language_info": {
   "codemirror_mode": {
    "name": "ipython",
    "version": 3
   },
   "file_extension": ".py",
   "mimetype": "text/x-python",
   "name": "python",
   "nbconvert_exporter": "python",
   "pygments_lexer": "ipython3",
   "version": "3.7.3"
  }
 },
 "nbformat": 4,
 "nbformat_minor": 2
}
